{
 "cells": [
  {
   "cell_type": "code",
   "execution_count": 1,
   "id": "7724a9ef-32bc-494e-8283-7b532062ff0b",
   "metadata": {},
   "outputs": [],
   "source": [
    "import pandas as pd\n",
    "import numpy as np\n",
    "import sys\n",
    "import keras\n",
    "from keras.applications.vgg16 import VGG16 as vgg16\n",
    "from keras.models import Model\n",
    "import cv2"
   ]
  },
  {
   "cell_type": "code",
   "execution_count": 3,
   "id": "11bc668d-b4a3-4bd0-9187-88eb31677470",
   "metadata": {},
   "outputs": [
    {
     "name": "stdout",
     "output_type": "stream",
     "text": [
      "Model: \"model_1\"\n",
      "_________________________________________________________________\n",
      " Layer (type)                Output Shape              Param #   \n",
      "=================================================================\n",
      " input_2 (InputLayer)        [(None, 224, 224, 3)]     0         \n",
      "                                                                 \n",
      " block1_conv1 (Conv2D)       (None, 224, 224, 64)      1792      \n",
      "                                                                 \n",
      " block1_conv2 (Conv2D)       (None, 224, 224, 64)      36928     \n",
      "                                                                 \n",
      " block1_pool (MaxPooling2D)  (None, 112, 112, 64)      0         \n",
      "                                                                 \n",
      " block2_conv1 (Conv2D)       (None, 112, 112, 128)     73856     \n",
      "                                                                 \n",
      " block2_conv2 (Conv2D)       (None, 112, 112, 128)     147584    \n",
      "                                                                 \n",
      " block2_pool (MaxPooling2D)  (None, 56, 56, 128)       0         \n",
      "                                                                 \n",
      " block3_conv1 (Conv2D)       (None, 56, 56, 256)       295168    \n",
      "                                                                 \n",
      " block3_conv2 (Conv2D)       (None, 56, 56, 256)       590080    \n",
      "                                                                 \n",
      " block3_conv3 (Conv2D)       (None, 56, 56, 256)       590080    \n",
      "                                                                 \n",
      " block3_pool (MaxPooling2D)  (None, 28, 28, 256)       0         \n",
      "                                                                 \n",
      " block4_conv1 (Conv2D)       (None, 28, 28, 512)       1180160   \n",
      "                                                                 \n",
      " block4_conv2 (Conv2D)       (None, 28, 28, 512)       2359808   \n",
      "                                                                 \n",
      " block4_conv3 (Conv2D)       (None, 28, 28, 512)       2359808   \n",
      "                                                                 \n",
      " block4_pool (MaxPooling2D)  (None, 14, 14, 512)       0         \n",
      "                                                                 \n",
      " block5_conv1 (Conv2D)       (None, 14, 14, 512)       2359808   \n",
      "                                                                 \n",
      " block5_conv2 (Conv2D)       (None, 14, 14, 512)       2359808   \n",
      "                                                                 \n",
      " block5_conv3 (Conv2D)       (None, 14, 14, 512)       2359808   \n",
      "                                                                 \n",
      " block5_pool (MaxPooling2D)  (None, 7, 7, 512)         0         \n",
      "                                                                 \n",
      " flatten (Flatten)           (None, 25088)             0         \n",
      "                                                                 \n",
      " fc1 (Dense)                 (None, 4096)              102764544 \n",
      "                                                                 \n",
      " fc2 (Dense)                 (None, 4096)              16781312  \n",
      "                                                                 \n",
      "=================================================================\n",
      "Total params: 134,260,544\n",
      "Trainable params: 134,260,544\n",
      "Non-trainable params: 0\n",
      "_________________________________________________________________\n",
      "None\n"
     ]
    }
   ],
   "source": [
    "# creating VGG16 model\n",
    "model = keras.applications.VGG16(weights=\"imagenet\", include_top=True, pooling=\"max\", input_shape=(224, 224, 3))\n",
    "\n",
    "# removing last layer; model is up to fc2 (second last layer)\n",
    "model_fc2 = Model(inputs=model.input, outputs=model.get_layer(\"fc2\").output)\n",
    "\n",
    "print(model_fc2.summary())"
   ]
  },
  {
   "cell_type": "code",
   "execution_count": 4,
   "id": "a98c47ff-7266-4ade-80de-27ff3ea120a5",
   "metadata": {},
   "outputs": [],
   "source": [
    "# function to convert image to vector of 4096 dimensions\n",
    "def get_vector(img):\n",
    "    # initial image dimensions\n",
    "    print(img.shape)\n",
    "\n",
    "    # resizing and reshaping image to fit input shape\n",
    "    img = cv2.resize(img,(224,224)).reshape(1,224,224,3)\n",
    "    \n",
    "    # resized and reshaped dimensions\n",
    "    print(img.shape)\n",
    "    \n",
    "    # retrieving vector for image\n",
    "    vector = model_fc2.predict(img)\n",
    "    return vector"
   ]
  },
  {
   "cell_type": "code",
   "execution_count": 8,
   "id": "76cd7e24-aff8-4bf3-a1d9-8114add4df2c",
   "metadata": {},
   "outputs": [
    {
     "name": "stdout",
     "output_type": "stream",
     "text": [
      "(585, 1600, 3)\n",
      "(1, 224, 224, 3)\n",
      "1/1 [==============================] - 0s 445ms/step\n",
      "[[0.        0.        2.1493187 ... 6.0895348 0.        0.       ]]\n"
     ]
    }
   ],
   "source": [
    "# load image\n",
    "img = cv2.imread(\"fish.png\")\n",
    "\n",
    "vector = get_vector(img)\n",
    "\n",
    "#np.set_printoptions(threshold=sys.maxsize)\n",
    "print(vector)"
   ]
  },
  {
   "cell_type": "code",
   "execution_count": 9,
   "id": "d199587b-d6db-4251-99a7-44f33527734d",
   "metadata": {},
   "outputs": [
    {
     "name": "stdout",
     "output_type": "stream",
     "text": [
      "(1199, 1200, 3)\n",
      "(1, 224, 224, 3)\n",
      "1/1 [==============================] - 0s 455ms/step\n",
      "[[0.        0.        0.        ... 0.        0.        0.6757629]]\n"
     ]
    }
   ],
   "source": [
    "# load image\n",
    "img = cv2.imread(\"cat.png\")\n",
    "\n",
    "vector = get_vector(img)\n",
    "\n",
    "#np.set_printoptions(threshold=sys.maxsize)\n",
    "print(vector)"
   ]
  },
  {
   "cell_type": "code",
   "execution_count": 10,
   "id": "daf90a43-6f46-4037-b35a-83ae379477f5",
   "metadata": {},
   "outputs": [
    {
     "name": "stdout",
     "output_type": "stream",
     "text": [
      "(825, 800, 3)\n",
      "(1, 224, 224, 3)\n",
      "1/1 [==============================] - 0s 468ms/step\n",
      "[[0.        0.        4.8872147 ... 0.        0.        0.       ]]\n"
     ]
    }
   ],
   "source": [
    "# load image\n",
    "img = cv2.imread(\"dog.png\")\n",
    "\n",
    "vector = get_vector(img)\n",
    "\n",
    "#np.set_printoptions(threshold=sys.maxsize)\n",
    "print(vector)"
   ]
  },
  {
   "cell_type": "code",
   "execution_count": null,
   "id": "2471211f-3f53-4e4d-9726-0b7892116915",
   "metadata": {},
   "outputs": [],
   "source": []
  }
 ],
 "metadata": {
  "kernelspec": {
   "display_name": "Python 3 (ipykernel)",
   "language": "python",
   "name": "python3"
  },
  "language_info": {
   "codemirror_mode": {
    "name": "ipython",
    "version": 3
   },
   "file_extension": ".py",
   "mimetype": "text/x-python",
   "name": "python",
   "nbconvert_exporter": "python",
   "pygments_lexer": "ipython3",
   "version": "3.9.12"
  }
 },
 "nbformat": 4,
 "nbformat_minor": 5
}
